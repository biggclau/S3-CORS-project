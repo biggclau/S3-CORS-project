{
 "cells": [
  {
   "cell_type": "markdown",
   "id": "133f64c4",
   "metadata": {},
   "source": [
    "STEPS TO CREATE A SAMPLE EC2 WEBSITE WITH CORS ENABLE TO PULL DATA FROM S3 BUCKET WEBSITE\n",
    "CORS configuration FOR S3\n",
    "\n",
    "Cross-origin resource sharing (CORS) defines a way for client web applications that are loaded in one domain to interact with resources in a different domain. With CORS support, you can build rich client-side web applications with Amazon S3 and selectively allow cross-origin access to your Amazon S3 resources.\n",
    "This project will show you how to enable CORS using the Amazon S3 console to enable a website hosted on an ec2 instance to make call to fetch data from an S3 static website.\n",
    "\n",
    "To configure your bucket to allow cross-origin requests, you add a CORS configuration to the bucket. A CORS configuration is a document that defines rules that identify the origins that you will allow to access your bucket, the operations (HTTP methods) supported for each origin, and other operation-specific information. \n",
    " \n",
    "    NB S3 new console only supports JSON for CORS configuration so if you use another language, configuration will fail.\n",
    "\n",
    "SCENARIO 1\n",
    "Instead of accessing a website by using an Amazon S3 website endpoint, we will enable CORS and serve the content through our static website url (webpage link) within our html code in our index.html file.\n",
    "To get started,\n",
    "\n",
    "- Log on to your aws console and  spin up a Linux server with Apache installed, started, enabled using a userdata script below.  Make sure your ec2 instance have a role attached to it that has AmazonS3FullAccess and AmazonSSMFullAccess policies attached to it. Note that thsi instance must be able to serve traffic from the internet since it will be used to host a public facing website.\n",
    "\n"
   ]
  },
  {
   "cell_type": "code",
   "execution_count": null,
   "id": "96405205",
   "metadata": {
    "vscode": {
     "languageId": "plaintext"
    }
   },
   "outputs": [],
   "source": [
    "#!/bin/bash\n",
    "sudo yum install -y httpd.x86_64\n",
    "sudo yum update -y httpd.x86_64\n",
    "sudo systemctl start httpd.service\n",
    "sudo systemctl enable httpd.service"
   ]
  },
  {
   "cell_type": "markdown",
   "id": "eef434ec",
   "metadata": {},
   "source": [
    "- Connect into your EC2 instance and move to the apache home directory \n"
   ]
  },
  {
   "cell_type": "code",
   "execution_count": null,
   "id": "75d78844",
   "metadata": {
    "vscode": {
     "languageId": "shellscript"
    }
   },
   "outputs": [],
   "source": [
    "cd /var/www/html"
   ]
  },
  {
   "cell_type": "markdown",
   "id": "604501d2",
   "metadata": {},
   "source": [
    "- Create an S3 bucket and create a static website from it.Upload all files I shared on team under S3 project folder for CORS into S3 bucket. Then run the following command on on your EC2 instance to copy the index.html file into /var/www/html folder.\n",
    "NB- Replace \"S3-bucket-index.html-file-path\" in the code below with your actual index.html location path in your S3 bucket.\n",
    "mine looks like this (sudo aws s3 cp s3://tekgloballlc.com/s3website/index.html /var/www/html/)"
   ]
  },
  {
   "cell_type": "code",
   "execution_count": null,
   "id": "b7e824f6",
   "metadata": {
    "vscode": {
     "languageId": "shellscript"
    }
   },
   "outputs": [],
   "source": [
    "sudo aws s3 cp \"S3-bucket-index.html-file-path\" /var/www/html/"
   ]
  },
  {
   "cell_type": "markdown",
   "id": "84298c40",
   "metadata": {},
   "source": [
    "copy public ip adddress of EC2 instance and check website content on browser. it will display part of your content but it will not Display the content found in your \"sample.json\" file in your S3 static website.\n"
   ]
  },
  {
   "cell_type": "markdown",
   "id": "b2865740",
   "metadata": {},
   "source": [
    "\n",
    "- To verify this , In your web brouser: open up \n",
    "\n",
    ">more tools>developers tools\n",
    "\n",
    "- select console and at the bottom of the page you will see a failed CORS request massage. this is to let you know that the website you accessed is not displaying all massages because it was unable to access some data from an s3 static website. "
   ]
  },
  {
   "cell_type": "markdown",
   "id": "7b7ed083",
   "metadata": {},
   "source": [
    "IMG-2205.jpg"
   ]
  },
  {
   "cell_type": "markdown",
   "id": "6ee04b08",
   "metadata": {},
   "source": [
    "\n",
    "By default, all http/https setting block any CORS headers from accessing data in your S3 static website. You will need to configure CORES on your S3 bucket to enable access for your EC2 website to pull all data.\n",
    "\n",
    "    NB S3 new console only supports JSON for CORS configuration so if you use another language, configuration will fail.\n",
    "\n",
    "To complete the configuration, go to the permision page of your S3 bucket and scroll all the way down to the CORS setting. Click on edit and copy and paste below json code to allow all HTTP/HTTPS headers to be able to access data in your S3 static website page."
   ]
  },
  {
   "cell_type": "code",
   "execution_count": null,
   "id": "0ac32a8f",
   "metadata": {
    "vscode": {
     "languageId": "json"
    }
   },
   "outputs": [],
   "source": [
    "[\n",
    "    {\n",
    "        \"AllowedHeaders\": [\n",
    "            \"Authorization\"\n",
    "        ],\n",
    "        \"AllowedMethods\": [\n",
    "            \"GET\",\n",
    "            \"HEAD\"\n",
    "        ],\n",
    "        \"AllowedOrigins\": [\n",
    "            \"*\"\n",
    "        ],\n",
    "        \"ExposeHeaders\": [\n",
    "            \"Access-Control-Allow-Origin\"\n",
    "        ]\n",
    "    }\n",
    "]"
   ]
  },
  {
   "cell_type": "markdown",
   "id": "64dd0e03",
   "metadata": {},
   "source": [
    "Save CORS setting and refresh your website. All data from S3 static website file you refrence in your index.html for your website will be displayed. You can make changes to the content of the Sample.json file in your S3 bucket and refresh your website and see how content in website will change.\n",
    "\n",
    "this is a simple way to ilustrate how most companies store application data in S3 and use CORES and EC2 application hosting to pull the data and display as content on their website.\n",
    "\n",
    "Any questions?\n",
    "\n",
    "\n",
    "\n",
    "\n",
    "\n"
   ]
  }
 ],
 "metadata": {
  "kernelspec": {
   "display_name": "Python 3 (ipykernel)",
   "language": "python",
   "name": "python3"
  },
  "language_info": {
   "codemirror_mode": {
    "name": "ipython",
    "version": 3
   },
   "file_extension": ".py",
   "mimetype": "text/x-python",
   "name": "python",
   "nbconvert_exporter": "python",
   "pygments_lexer": "ipython3",
   "version": "3.9.12"
  }
 },
 "nbformat": 4,
 "nbformat_minor": 5
}
